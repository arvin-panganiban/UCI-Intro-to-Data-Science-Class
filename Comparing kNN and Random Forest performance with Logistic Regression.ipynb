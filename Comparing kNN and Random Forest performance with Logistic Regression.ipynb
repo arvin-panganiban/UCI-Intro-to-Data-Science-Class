{
  "metadata": {
    "kernelspec": {
      "name": "python",
      "display_name": "Python (Pyodide)",
      "language": "python"
    },
    "language_info": {
      "codemirror_mode": {
        "name": "python",
        "version": 3
      },
      "file_extension": ".py",
      "mimetype": "text/x-python",
      "name": "python",
      "nbconvert_exporter": "python",
      "pygments_lexer": "ipython3",
      "version": "3.8"
    }
  },
  "nbformat_minor": 4,
  "nbformat": 4,
  "cells": [
    {
      "cell_type": "markdown",
      "source": "In this homework, please feel free to call the functions in sklean.\n\nBasic Requirements:\n1. load the hand-written digit data, and split train and test datasets (follow the last homework);\n2. Fit the kNN and random forest model separately on training data, and report the performance on test data -- you don't have to tune the parameters for basic requirements, choosing the parameters as you like;\n3. Compare the performace with logistic regression;\n4. Write some comments in the code, OR use markdown paragraphs to indicate what you are doing in the specific step.\n\nOptional Task:\nUsing cross-validations to select the parameters when fitting the model.",
      "metadata": {}
    },
    {
      "cell_type": "code",
      "source": "from sklearn.datasets import load_digits\nfrom sklearn.model_selection import train_test_split, cross_val_score\n\n#loading data then split train and test datasets\nX,y = load_digits(return_X_y = True)\nX_train, X_test, y_train, y_test = train_test_split(X, y, test_size=0.2)",
      "metadata": {},
      "execution_count": 2,
      "outputs": []
    },
    {
      "cell_type": "code",
      "source": "import pandas as pd\nfrom sklearn.neighbors import KNeighborsClassifier\n\n#dataframe for cv and test scores\nk_list = list(range(1,50,10))\ncv_scores = pd.DataFrame()\ntest_scores = pd.Series(dtype = 'float64')\n\n#10-fold cross validation for k from 1 to 50\nfor k in k_list:\n    knn_clf = KNeighborsClassifier(n_neighbors = k)\n    scores = cross_val_score(knn_clf, X_train, y_train, cv=10, scoring='accuracy')\n    cv_scores[str(k)] = scores\n    \ncv_scores",
      "metadata": {},
      "execution_count": 16,
      "outputs": [
        {
          "execution_count": 16,
          "output_type": "execute_result",
          "data": {
            "text/html": [
              "<div>\n",
              "<style scoped>\n",
              "    .dataframe tbody tr th:only-of-type {\n",
              "        vertical-align: middle;\n",
              "    }\n",
              "\n",
              "    .dataframe tbody tr th {\n",
              "        vertical-align: top;\n",
              "    }\n",
              "\n",
              "    .dataframe thead th {\n",
              "        text-align: right;\n",
              "    }\n",
              "</style>\n",
              "<table border=\"1\" class=\"dataframe\">\n",
              "  <thead>\n",
              "    <tr style=\"text-align: right;\">\n",
              "      <th></th>\n",
              "      <th>1</th>\n",
              "      <th>11</th>\n",
              "      <th>21</th>\n",
              "      <th>31</th>\n",
              "      <th>41</th>\n",
              "    </tr>\n",
              "  </thead>\n",
              "  <tbody>\n",
              "    <tr>\n",
              "      <th>0</th>\n",
              "      <td>0.965278</td>\n",
              "      <td>0.993056</td>\n",
              "      <td>0.979167</td>\n",
              "      <td>0.951389</td>\n",
              "      <td>0.944444</td>\n",
              "    </tr>\n",
              "    <tr>\n",
              "      <th>1</th>\n",
              "      <td>0.993056</td>\n",
              "      <td>0.993056</td>\n",
              "      <td>0.993056</td>\n",
              "      <td>0.972222</td>\n",
              "      <td>0.958333</td>\n",
              "    </tr>\n",
              "    <tr>\n",
              "      <th>2</th>\n",
              "      <td>0.993056</td>\n",
              "      <td>0.951389</td>\n",
              "      <td>0.930556</td>\n",
              "      <td>0.923611</td>\n",
              "      <td>0.916667</td>\n",
              "    </tr>\n",
              "    <tr>\n",
              "      <th>3</th>\n",
              "      <td>0.979167</td>\n",
              "      <td>0.958333</td>\n",
              "      <td>0.958333</td>\n",
              "      <td>0.951389</td>\n",
              "      <td>0.937500</td>\n",
              "    </tr>\n",
              "    <tr>\n",
              "      <th>4</th>\n",
              "      <td>0.986111</td>\n",
              "      <td>0.986111</td>\n",
              "      <td>0.972222</td>\n",
              "      <td>0.979167</td>\n",
              "      <td>0.972222</td>\n",
              "    </tr>\n",
              "    <tr>\n",
              "      <th>5</th>\n",
              "      <td>0.986111</td>\n",
              "      <td>0.979167</td>\n",
              "      <td>0.958333</td>\n",
              "      <td>0.951389</td>\n",
              "      <td>0.944444</td>\n",
              "    </tr>\n",
              "    <tr>\n",
              "      <th>6</th>\n",
              "      <td>0.986111</td>\n",
              "      <td>0.972222</td>\n",
              "      <td>0.965278</td>\n",
              "      <td>0.965278</td>\n",
              "      <td>0.937500</td>\n",
              "    </tr>\n",
              "    <tr>\n",
              "      <th>7</th>\n",
              "      <td>0.986014</td>\n",
              "      <td>0.986014</td>\n",
              "      <td>0.965035</td>\n",
              "      <td>0.951049</td>\n",
              "      <td>0.944056</td>\n",
              "    </tr>\n",
              "    <tr>\n",
              "      <th>8</th>\n",
              "      <td>0.979021</td>\n",
              "      <td>0.965035</td>\n",
              "      <td>0.958042</td>\n",
              "      <td>0.958042</td>\n",
              "      <td>0.958042</td>\n",
              "    </tr>\n",
              "    <tr>\n",
              "      <th>9</th>\n",
              "      <td>0.986014</td>\n",
              "      <td>0.979021</td>\n",
              "      <td>0.965035</td>\n",
              "      <td>0.972028</td>\n",
              "      <td>0.944056</td>\n",
              "    </tr>\n",
              "  </tbody>\n",
              "</table>\n",
              "</div>"
            ],
            "text/plain": [
              "          1        11        21        31        41\n",
              "0  0.965278  0.993056  0.979167  0.951389  0.944444\n",
              "1  0.993056  0.993056  0.993056  0.972222  0.958333\n",
              "2  0.993056  0.951389  0.930556  0.923611  0.916667\n",
              "3  0.979167  0.958333  0.958333  0.951389  0.937500\n",
              "4  0.986111  0.986111  0.972222  0.979167  0.972222\n",
              "5  0.986111  0.979167  0.958333  0.951389  0.944444\n",
              "6  0.986111  0.972222  0.965278  0.965278  0.937500\n",
              "7  0.986014  0.986014  0.965035  0.951049  0.944056\n",
              "8  0.979021  0.965035  0.958042  0.958042  0.958042\n",
              "9  0.986014  0.979021  0.965035  0.972028  0.944056"
            ]
          },
          "metadata": {}
        }
      ]
    },
    {
      "cell_type": "code",
      "source": "#Fitting using KNN on training data with k = 3\nknn_clf = KNeighborsClassifier(n_neighbors = 3)\nknn_clf.fit(X_train, y_train)\nknn_cv = cross_val_score(knn_clf, X_train, y_train, cv=10, scoring='accuracy')\nknn_test = knn_clf.score(X_test,y_test)\n\nprint(\"Accuracy of CV: %0.2f (+/- %0.2f)\" % (knn_cv.mean(), knn_cv.std()))\nprint(\"Accuracy on Test: %0.2f\" % (knn_test))",
      "metadata": {},
      "execution_count": 17,
      "outputs": [
        {
          "name": "stdout",
          "output_type": "stream",
          "text": "Accuracy of CV: 0.98 (+/- 0.01)\n\nAccuracy on Test: 0.99\n"
        }
      ]
    },
    {
      "cell_type": "code",
      "source": "from sklearn.ensemble import RandomForestClassifier\n\n#Fitting using Random Forest Model on training data\nrf_clf = RandomForestClassifier(n_estimators=1000, n_jobs = -1)\nrf_clf.fit(X_train, y_train)\nrf_cv = cross_val_score(rf_clf, X_train, y_train, scoring='accuracy', cv=10)\nrf_test = rf_clf.score(X_test, y_test)\n\nprint(\"Accuracy of CV: %0.2f (+/- %0.2f)\" % (rf_cv.mean(), rf_cv.std()))\nprint(\"Accuracy on Test: %0.2f\" % (rf_test))",
      "metadata": {},
      "execution_count": 18,
      "outputs": [
        {
          "name": "stdout",
          "output_type": "stream",
          "text": "Accuracy of CV: 0.97 (+/- 0.01)\n\nAccuracy on Test: 0.98\n"
        }
      ]
    },
    {
      "cell_type": "code",
      "source": "from sklearn.linear_model import LogisticRegression\n\n#Fitting using Logistic Regression on training data\nlr_clf = LogisticRegression(solver='lbfgs', max_iter=10000)\nlr_cv = cross_val_score(lr_clf, X_train, y_train, scoring='accuracy', cv=10)\nlr_clf.fit(X_train, y_train)\nlr_test = lr_clf.score(X_test, y_test)\n\nprint(\"Accuracy of CV: %0.2f (+/- %0.2f)\" % (lr_cv.mean(), lr_cv.std()))\nprint(\"Accuracy on Test: %0.2f\" % (lr_test))",
      "metadata": {},
      "execution_count": 19,
      "outputs": [
        {
          "name": "stdout",
          "output_type": "stream",
          "text": "Accuracy of CV: 0.96 (+/- 0.01)\n\nAccuracy on Test: 0.97\n"
        }
      ]
    },
    {
      "cell_type": "markdown",
      "source": "### The K-Nearest Neighbours and Random Forest Model performed better on our test data than Logistic Regression",
      "metadata": {}
    }
  ]
}